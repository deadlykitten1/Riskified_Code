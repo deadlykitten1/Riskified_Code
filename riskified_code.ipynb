{
 "cells": [
  {
   "cell_type": "markdown",
   "metadata": {},
   "source": [
    "# Riskified Code Assessment"
   ]
  },
  {
   "cell_type": "markdown",
   "metadata": {},
   "source": [
    "#### 0: Setup and Exploratory Analysis"
   ]
  },
  {
   "cell_type": "code",
   "execution_count": 78,
   "metadata": {},
   "outputs": [],
   "source": [
    "import pandas as pd\n",
    "import numpy as np\n",
    "import seaborn as sns\n",
    "import matplotlib.pyplot as plt"
   ]
  },
  {
   "cell_type": "code",
   "execution_count": 79,
   "metadata": {},
   "outputs": [],
   "source": [
    "df = pd.read_csv(\"./Analyst_Coding_Test_(1)_(2).csv\")"
   ]
  },
  {
   "cell_type": "code",
   "execution_count": 80,
   "metadata": {},
   "outputs": [
    {
     "data": {
      "text/html": [
       "<div>\n",
       "<style scoped>\n",
       "    .dataframe tbody tr th:only-of-type {\n",
       "        vertical-align: middle;\n",
       "    }\n",
       "\n",
       "    .dataframe tbody tr th {\n",
       "        vertical-align: top;\n",
       "    }\n",
       "\n",
       "    .dataframe thead th {\n",
       "        text-align: right;\n",
       "    }\n",
       "</style>\n",
       "<table border=\"1\" class=\"dataframe\">\n",
       "  <thead>\n",
       "    <tr style=\"text-align: right;\">\n",
       "      <th></th>\n",
       "      <th>shape</th>\n",
       "      <th>color</th>\n",
       "      <th>area</th>\n",
       "    </tr>\n",
       "  </thead>\n",
       "  <tbody>\n",
       "    <tr>\n",
       "      <th>0</th>\n",
       "      <td>square</td>\n",
       "      <td>yellow</td>\n",
       "      <td>9409.0</td>\n",
       "    </tr>\n",
       "    <tr>\n",
       "      <th>1</th>\n",
       "      <td>circle</td>\n",
       "      <td>yellow</td>\n",
       "      <td>4071.5</td>\n",
       "    </tr>\n",
       "    <tr>\n",
       "      <th>2</th>\n",
       "      <td>triangle</td>\n",
       "      <td>blue</td>\n",
       "      <td>2028.0</td>\n",
       "    </tr>\n",
       "    <tr>\n",
       "      <th>3</th>\n",
       "      <td>square</td>\n",
       "      <td>blue</td>\n",
       "      <td>3025.0</td>\n",
       "    </tr>\n",
       "    <tr>\n",
       "      <th>4</th>\n",
       "      <td>square</td>\n",
       "      <td>blue</td>\n",
       "      <td>9216.0</td>\n",
       "    </tr>\n",
       "  </tbody>\n",
       "</table>\n",
       "</div>"
      ],
      "text/plain": [
       "      shape   color    area\n",
       "0    square  yellow  9409.0\n",
       "1    circle  yellow  4071.5\n",
       "2  triangle    blue  2028.0\n",
       "3    square    blue  3025.0\n",
       "4    square    blue  9216.0"
      ]
     },
     "execution_count": 80,
     "metadata": {},
     "output_type": "execute_result"
    }
   ],
   "source": [
    "df.head()"
   ]
  },
  {
   "cell_type": "code",
   "execution_count": 81,
   "metadata": {},
   "outputs": [
    {
     "name": "stdout",
     "output_type": "stream",
     "text": [
      "<class 'pandas.core.frame.DataFrame'>\n",
      "RangeIndex: 1000 entries, 0 to 999\n",
      "Data columns (total 3 columns):\n",
      " #   Column  Non-Null Count  Dtype  \n",
      "---  ------  --------------  -----  \n",
      " 0   shape   1000 non-null   object \n",
      " 1   color   1000 non-null   object \n",
      " 2   area    1000 non-null   float64\n",
      "dtypes: float64(1), object(2)\n",
      "memory usage: 23.6+ KB\n"
     ]
    }
   ],
   "source": [
    "# Checking for missing values\n",
    "\n",
    "df.info()"
   ]
  },
  {
   "cell_type": "code",
   "execution_count": 82,
   "metadata": {},
   "outputs": [
    {
     "data": {
      "text/plain": [
       "square      477\n",
       "triangle    403\n",
       "circle      120\n",
       "Name: shape, dtype: int64"
      ]
     },
     "execution_count": 82,
     "metadata": {},
     "output_type": "execute_result"
    }
   ],
   "source": [
    "df['shape'].value_counts()"
   ]
  },
  {
   "cell_type": "code",
   "execution_count": 83,
   "metadata": {},
   "outputs": [
    {
     "data": {
      "text/plain": [
       "blue      360\n",
       "red       290\n",
       "yellow    272\n",
       "green      78\n",
       "Name: color, dtype: int64"
      ]
     },
     "execution_count": 83,
     "metadata": {},
     "output_type": "execute_result"
    }
   ],
   "source": [
    "df['color'].value_counts()"
   ]
  },
  {
   "cell_type": "code",
   "execution_count": 84,
   "metadata": {},
   "outputs": [
    {
     "data": {
      "text/plain": [
       "count     1000.000000\n",
       "mean      3945.289900\n",
       "std       4754.205318\n",
       "min          0.800000\n",
       "25%        758.250000\n",
       "50%       2610.800000\n",
       "75%       5492.450000\n",
       "max      31415.900000\n",
       "Name: area, dtype: float64"
      ]
     },
     "execution_count": 84,
     "metadata": {},
     "output_type": "execute_result"
    }
   ],
   "source": [
    "df['area'].describe()"
   ]
  },
  {
   "cell_type": "markdown",
   "metadata": {},
   "source": [
    "#### 1: Draw a Boxplot displaying the area distribution of the shapes"
   ]
  },
  {
   "cell_type": "code",
   "execution_count": 85,
   "metadata": {},
   "outputs": [
    {
     "data": {
      "image/png": "[encoded data removed]",
      "text/plain": [
       "<Figure size 432x288 with 1 Axes>"
      ]
     },
     "metadata": {},
     "output_type": "display_data"
    }
   ],
   "source": [
    "fig, ax = plt.subplots()\n",
    "\n",
    "sns.set_style('darkgrid')\n",
    "sns.boxplot(x = df['shape'], y = df['area'], ax = ax)\n",
    "\n",
    "ax.set_title('Area Distributions by Shape')\n",
    "ax.set_ylabel('area (square inches)')\n",
    "\n",
    "plt.show()"
   ]
  },
  {
   "cell_type": "markdown",
   "metadata": {},
   "source": [
    "#### 2: Calculate the mean, max, and standard deviation of the area for each color"
   ]
  },
  {
   "cell_type": "code",
   "execution_count": 86,
   "metadata": {},
   "outputs": [],
   "source": [
    "def get_color_info(color, att):\n",
    "    \"\"\"\n",
    "    Returns the mean, max, and standard deviation for a given color\n",
    "    If the color doesn't exist, will return NaNs\n",
    "    \"\"\"\n",
    "    color_df = df.loc[df['color'] == color]\n",
    "\n",
    "    return color_df['area'].describe()[att]\n"
   ]
  },
  {
   "cell_type": "code",
   "execution_count": 87,
   "metadata": {},
   "outputs": [
    {
     "name": "stdout",
     "output_type": "stream",
     "text": [
      "mean: 5761.119230769232 \n",
      "max: 27759.1 \n",
      "standard dev: 6695.029606348661\n"
     ]
    }
   ],
   "source": [
    "# Calculate for green\n",
    "mean = get_color_info('green', 'mean')\n",
    "max = get_color_info('green', 'max')\n",
    "std = get_color_info('green', 'std')\n",
    "\n",
    "print(f\"mean: {mean} \\nmax: {max} \\nstandard dev: {std}\")"
   ]
  },
  {
   "cell_type": "code",
   "execution_count": 88,
   "metadata": {},
   "outputs": [
    {
     "name": "stdout",
     "output_type": "stream",
     "text": [
      "mean: 3815.8710344827646 \n",
      "max: 31415.9 \n",
      "standard dev: 5092.678376780838\n"
     ]
    }
   ],
   "source": [
    "# Calculate for red\n",
    "mean = get_color_info('red', 'mean')\n",
    "max = get_color_info('red', 'max')\n",
    "std = get_color_info('red', 'std')\n",
    "\n",
    "print(f\"mean: {mean} \\nmax: {max} \\nstandard dev: {std}\")"
   ]
  },
  {
   "cell_type": "code",
   "execution_count": 89,
   "metadata": {},
   "outputs": [
    {
     "name": "stdout",
     "output_type": "stream",
     "text": [
      "mean: 3208.1316666666735 \n",
      "max: 21642.4 \n",
      "standard dev: 3039.2129648171303\n"
     ]
    }
   ],
   "source": [
    "# Calculate for blue\n",
    "mean = get_color_info('blue', 'mean')\n",
    "max = get_color_info('blue', 'max')\n",
    "std = get_color_info('blue', 'std')\n",
    "\n",
    "print(f\"mean: {mean} \\nmax: {max} \\nstandard dev: {std}\")"
   ]
  },
  {
   "cell_type": "code",
   "execution_count": 90,
   "metadata": {},
   "outputs": [
    {
     "name": "stdout",
     "output_type": "stream",
     "text": [
      "mean: 4538.208088235295 \n",
      "max: 31415.9 \n",
      "standard dev: 5352.460578324455\n"
     ]
    }
   ],
   "source": [
    "# Calculate for yellow\n",
    "mean = get_color_info('yellow', 'mean')\n",
    "max = get_color_info('yellow', 'max')\n",
    "std = get_color_info('yellow', 'std')\n",
    "\n",
    "print(f\"mean: {mean} \\nmax: {max} \\nstandard dev: {std}\")"
   ]
  },
  {
   "cell_type": "code",
   "execution_count": 91,
   "metadata": {},
   "outputs": [
    {
     "name": "stdout",
     "output_type": "stream",
     "text": [
      "mean: nan \n",
      "max: nan \n",
      "standard dev: nan\n"
     ]
    }
   ],
   "source": [
    "# Test case for color that doesn't exist\n",
    "mean = get_color_info('purple', 'mean')\n",
    "max = get_color_info('purple', 'max')\n",
    "std = get_color_info('purple', 'std')\n",
    "\n",
    "print(f\"mean: {mean} \\nmax: {max} \\nstandard dev: {std}\")"
   ]
  },
  {
   "cell_type": "markdown",
   "metadata": {},
   "source": [
    "#### 3: Calculate the average area of a yellow square"
   ]
  },
  {
   "cell_type": "code",
   "execution_count": 92,
   "metadata": {},
   "outputs": [
    {
     "data": {
      "text/plain": [
       "3333.2072072072074"
      ]
     },
     "execution_count": 92,
     "metadata": {},
     "output_type": "execute_result"
    }
   ],
   "source": [
    "df.loc[df['shape'] == 'square'].loc[df['color'] == 'yellow']['area'].agg('mean')"
   ]
  },
  {
   "cell_type": "markdown",
   "metadata": {},
   "source": [
    "#### 4: Calculate which shape is most likely to be green"
   ]
  },
  {
   "cell_type": "code",
   "execution_count": 93,
   "metadata": {},
   "outputs": [],
   "source": [
    "square_df = df.loc[df['shape'] == 'square']\n",
    "circle_df = df.loc[df['shape'] == 'circle']\n",
    "triangle_df = df.loc[df['shape'] == 'triangle']"
   ]
  },
  {
   "cell_type": "code",
   "execution_count": 94,
   "metadata": {},
   "outputs": [
    {
     "data": {
      "text/plain": [
       "0.09853249475890985"
      ]
     },
     "execution_count": 94,
     "metadata": {},
     "output_type": "execute_result"
    }
   ],
   "source": [
    "square_prob_green = len(square_df.loc[square_df['color'] == 'green']) / len(square_df)\n",
    "square_prob_green"
   ]
  },
  {
   "cell_type": "code",
   "execution_count": 95,
   "metadata": {},
   "outputs": [
    {
     "data": {
      "text/plain": [
       "0.25833333333333336"
      ]
     },
     "execution_count": 95,
     "metadata": {},
     "output_type": "execute_result"
    }
   ],
   "source": [
    "circle_prob_green = len(circle_df.loc[circle_df['color'] == 'green']) / len(circle_df)\n",
    "circle_prob_green"
   ]
  },
  {
   "cell_type": "code",
   "execution_count": 96,
   "metadata": {},
   "outputs": [
    {
     "data": {
      "text/plain": [
       "0.0"
      ]
     },
     "execution_count": 96,
     "metadata": {},
     "output_type": "execute_result"
    }
   ],
   "source": [
    "triangle_prob_green = len(triangle_df.loc[triangle_df['color'] == 'green']) / len(triangle_df)\n",
    "triangle_prob_green"
   ]
  },
  {
   "cell_type": "markdown",
   "metadata": {},
   "source": [
    "Circles have the highest probability of being green"
   ]
  },
  {
   "cell_type": "markdown",
   "metadata": {},
   "source": [
    "#### 5: Calculate the odds of each shape given the area is greater than 3,000 and the color is red"
   ]
  },
  {
   "cell_type": "code",
   "execution_count": 97,
   "metadata": {},
   "outputs": [],
   "source": [
    "red_df = df.loc[df['color'] == 'red']\n",
    "given_df = red_df.loc[red_df['area'] > 3000]"
   ]
  },
  {
   "cell_type": "code",
   "execution_count": 98,
   "metadata": {},
   "outputs": [
    {
     "data": {
      "text/plain": [
       "triangle    84\n",
       "square      21\n",
       "circle      20\n",
       "Name: shape, dtype: int64"
      ]
     },
     "execution_count": 98,
     "metadata": {},
     "output_type": "execute_result"
    }
   ],
   "source": [
    "given_df['shape'].value_counts()"
   ]
  },
  {
   "cell_type": "code",
   "execution_count": 99,
   "metadata": {},
   "outputs": [],
   "source": [
    "triangle_odds = 84/len(given_df)\n",
    "square_odds = 21/len(given_df)\n",
    "circle_odds = 20/len(given_df)"
   ]
  },
  {
   "cell_type": "markdown",
   "metadata": {},
   "source": [
    "#### 6: Define a function that calculates the side or radius of a shape "
   ]
  },
  {
   "cell_type": "code",
   "execution_count": 100,
   "metadata": {},
   "outputs": [],
   "source": [
    "def find_side(entry):\n",
    "    '''\n",
    "    Calculates the side or radius length for a given shape\n",
    "    '''\n",
    "    if entry['shape'] == 'circle':\n",
    "        return np.sqrt(entry['area'] / np.pi)\n",
    "    elif entry['shape'] == 'square':\n",
    "        return np.sqrt(entry['area'])\n",
    "    elif entry['shape'] == 'triangle':\n",
    "        return np.sqrt(entry['area'] / (np.sqrt(3) * 4))\n",
    "    else:\n",
    "        return np.nan"
   ]
  },
  {
   "cell_type": "markdown",
   "metadata": {},
   "source": [
    "#### 7: Create new column for the side or radius of each shape (as an int) "
   ]
  },
  {
   "cell_type": "code",
   "execution_count": 101,
   "metadata": {},
   "outputs": [],
   "source": [
    "df['side'] = df.apply(find_side, axis = 1)"
   ]
  },
  {
   "cell_type": "code",
   "execution_count": 102,
   "metadata": {},
   "outputs": [
    {
     "data": {
      "text/html": [
       "<div>\n",
       "<style scoped>\n",
       "    .dataframe tbody tr th:only-of-type {\n",
       "        vertical-align: middle;\n",
       "    }\n",
       "\n",
       "    .dataframe tbody tr th {\n",
       "        vertical-align: top;\n",
       "    }\n",
       "\n",
       "    .dataframe thead th {\n",
       "        text-align: right;\n",
       "    }\n",
       "</style>\n",
       "<table border=\"1\" class=\"dataframe\">\n",
       "  <thead>\n",
       "    <tr style=\"text-align: right;\">\n",
       "      <th></th>\n",
       "      <th>shape</th>\n",
       "      <th>color</th>\n",
       "      <th>area</th>\n",
       "      <th>side</th>\n",
       "    </tr>\n",
       "  </thead>\n",
       "  <tbody>\n",
       "    <tr>\n",
       "      <th>0</th>\n",
       "      <td>square</td>\n",
       "      <td>yellow</td>\n",
       "      <td>9409.0</td>\n",
       "      <td>97.000000</td>\n",
       "    </tr>\n",
       "    <tr>\n",
       "      <th>1</th>\n",
       "      <td>circle</td>\n",
       "      <td>yellow</td>\n",
       "      <td>4071.5</td>\n",
       "      <td>35.999982</td>\n",
       "    </tr>\n",
       "    <tr>\n",
       "      <th>2</th>\n",
       "      <td>triangle</td>\n",
       "      <td>blue</td>\n",
       "      <td>2028.0</td>\n",
       "      <td>17.108962</td>\n",
       "    </tr>\n",
       "    <tr>\n",
       "      <th>3</th>\n",
       "      <td>square</td>\n",
       "      <td>blue</td>\n",
       "      <td>3025.0</td>\n",
       "      <td>55.000000</td>\n",
       "    </tr>\n",
       "    <tr>\n",
       "      <th>4</th>\n",
       "      <td>square</td>\n",
       "      <td>blue</td>\n",
       "      <td>9216.0</td>\n",
       "      <td>96.000000</td>\n",
       "    </tr>\n",
       "  </tbody>\n",
       "</table>\n",
       "</div>"
      ],
      "text/plain": [
       "      shape   color    area       side\n",
       "0    square  yellow  9409.0  97.000000\n",
       "1    circle  yellow  4071.5  35.999982\n",
       "2  triangle    blue  2028.0  17.108962\n",
       "3    square    blue  3025.0  55.000000\n",
       "4    square    blue  9216.0  96.000000"
      ]
     },
     "execution_count": 102,
     "metadata": {},
     "output_type": "execute_result"
    }
   ],
   "source": [
    "df.head()"
   ]
  },
  {
   "cell_type": "markdown",
   "metadata": {},
   "source": [
    "#### 8: Draw a boxplot of each side/radius by shape and make inferences"
   ]
  },
  {
   "cell_type": "code",
   "execution_count": 103,
   "metadata": {},
   "outputs": [
    {
     "data": {
      "image/png": "[encoded data removed]",
      "text/plain": [
       "<Figure size 432x288 with 1 Axes>"
      ]
     },
     "metadata": {},
     "output_type": "display_data"
    }
   ],
   "source": [
    "fig, ax = plt.subplots()\n",
    "\n",
    "sns.set_style('darkgrid')\n",
    "sns.boxplot(x = df['shape'], y = df['side'], ax = ax)\n",
    "\n",
    "ax.set_title('Side Distributions by Shape')\n",
    "ax.set_ylabel('Side (inches)')\n",
    "\n",
    "plt.show()"
   ]
  },
  {
   "cell_type": "markdown",
   "metadata": {},
   "source": [
    "Despite having a much larger spread in area's, circles and squares have very similar side/radius distributions. This is expected, as reexamining the Area distributions shows that the variance of circle's area is about Pi times larger."
   ]
  },
  {
   "cell_type": "markdown",
   "metadata": {},
   "source": [
    "#### 9: Draw a scatterplot with the given constraints: x = side, y = area, color = shape "
   ]
  },
  {
   "cell_type": "code",
   "execution_count": 104,
   "metadata": {},
   "outputs": [
    {
     "data": {
      "image/png": "[encoded data removed]",
      "text/plain": [
       "<Figure size 432x288 with 1 Axes>"
      ]
     },
     "metadata": {},
     "output_type": "display_data"
    }
   ],
   "source": [
    "fig, ax = plt.subplots()\n",
    "\n",
    "sns.set_style('darkgrid')\n",
    "sns.scatterplot(x = df['side'], y = df['area'], hue = df['shape'], ax = ax)\n",
    "\n",
    "ax.set_title('Side vs Area')\n",
    "ax.set_ylabel('Area (square inches)')\n",
    "ax.set_xlabel('Side (inches)')\n",
    "\n",
    "plt.show()"
   ]
  },
  {
   "cell_type": "markdown",
   "metadata": {},
   "source": [
    "#### 10: Create lists for the following scenarios for each shape"
   ]
  },
  {
   "cell_type": "markdown",
   "metadata": {},
   "source": [
    "10 a: Proportion of red to total for each shape"
   ]
  },
  {
   "cell_type": "code",
   "execution_count": 105,
   "metadata": {},
   "outputs": [],
   "source": [
    "df['is_red'] = df.apply(lambda x: x['color'] == 'red', axis = 1)"
   ]
  },
  {
   "cell_type": "code",
   "execution_count": 106,
   "metadata": {},
   "outputs": [],
   "source": [
    "square_df = df.loc[df['shape'] == 'square']\n",
    "circle_df = df.loc[df['shape'] == 'circle']\n",
    "triangle_df = df.loc[df['shape'] == 'triangle']"
   ]
  },
  {
   "cell_type": "code",
   "execution_count": 107,
   "metadata": {},
   "outputs": [],
   "source": [
    "square_prob = square_df['is_red'].aggregate(sum) / len(square_df)\n",
    "circle_prob= circle_df['is_red'].aggregate(sum) / len(circle_df)\n",
    "triangle_prob = triangle_df['is_red'].aggregate(sum) / len(triangle_df)"
   ]
  },
  {
   "cell_type": "code",
   "execution_count": 108,
   "metadata": {},
   "outputs": [
    {
     "data": {
      "text/plain": [
       "[0.11740041928721175, 0.25, 0.5062034739454094]"
      ]
     },
     "execution_count": 108,
     "metadata": {},
     "output_type": "execute_result"
    }
   ],
   "source": [
    "red_probs = [square_prob, circle_prob, triangle_prob]\n",
    "red_probs"
   ]
  },
  {
   "cell_type": "markdown",
   "metadata": {},
   "source": [
    "10 b: Proportion of blue area to total area"
   ]
  },
  {
   "cell_type": "code",
   "execution_count": 109,
   "metadata": {},
   "outputs": [],
   "source": [
    "square_total_area = square_df['area'].aggregate(sum)\n",
    "circle_total_area = circle_df['area'].aggregate(sum)\n",
    "triangle_total_area = triangle_df['area'].aggregate(sum)\n",
    "\n",
    "square_blue_area = square_df.loc[square_df['color'] == 'blue']['area'].aggregate(sum)\n",
    "circle_blue_area = circle_df.loc[circle_df['color'] == 'blue']['area'].aggregate(sum)\n",
    "triangle_blue_area = triangle_df.loc[triangle_df['color'] == 'blue']['area'].aggregate(sum)"
   ]
  },
  {
   "cell_type": "code",
   "execution_count": 110,
   "metadata": {},
   "outputs": [
    {
     "data": {
      "text/plain": [
       "[0.36038508102925904, 0.06124595429571636, 0.4738855857023727]"
      ]
     },
     "execution_count": 110,
     "metadata": {},
     "output_type": "execute_result"
    }
   ],
   "source": [
    "blue_proportions = [square_blue_area/square_total_area, circle_blue_area/circle_total_area, triangle_blue_area/triangle_total_area]\n",
    "blue_proportions"
   ]
  },
  {
   "cell_type": "markdown",
   "metadata": {},
   "source": [
    "#### 11: Define a function that calculates the proportion of a color's area to the total area by shape"
   ]
  },
  {
   "cell_type": "code",
   "execution_count": 111,
   "metadata": {},
   "outputs": [],
   "source": [
    "def calc_area_prop(color, shape):\n",
    "    shape_df = df.loc[df['shape'] == shape]\n",
    "\n",
    "    total_area = shape_df['area'].aggregate(sum)\n",
    "\n",
    "    blue_area = shape_df.loc[shape_df['color'] == color]['area'].aggregate(sum)\n",
    "\n",
    "    return blue_area/total_area\n"
   ]
  },
  {
   "cell_type": "code",
   "execution_count": 112,
   "metadata": {},
   "outputs": [
    {
     "data": {
      "text/plain": [
       "0.36038508102925904"
      ]
     },
     "execution_count": 112,
     "metadata": {},
     "output_type": "execute_result"
    }
   ],
   "source": [
    "calc_area_prop('blue', 'square')"
   ]
  }
 ],
 "metadata": {
  "kernelspec": {
   "display_name": "Python 3.9.7 ('base')",
   "language": "python",
   "name": "python3"
  },
  "language_info": {
   "codemirror_mode": {
    "name": "ipython",
    "version": 3
   },
   "file_extension": ".py",
   "mimetype": "text/x-python",
   "name": "python",
   "nbconvert_exporter": "python",
   "pygments_lexer": "ipython3",
   "version": "3.9.7"
  },
  "orig_nbformat": 4,
  "vscode": {
   "interpreter": {
    "hash": "1c7ae5ca7afa47d1c118e1cc9ccaf65a17609b650c517e098aee76b19a0109a3"
   }
  }
 },
 "nbformat": 4,
 "nbformat_minor": 2
}
